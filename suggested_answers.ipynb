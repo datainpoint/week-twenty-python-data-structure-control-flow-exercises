{
 "cells": [
  {
   "cell_type": "markdown",
   "metadata": {
    "deletable": false
   },
   "source": [
    "# 約維安計畫：Python 資料結構與流程控制練習題\n",
    "\n",
    "> 第二十週\n",
    "\n",
    "[數據交點](https://www.datainpoint.com/) | 郭耀仁 <yaojenkuo@datainpoint.com>"
   ]
  },
  {
   "cell_type": "markdown",
   "metadata": {
    "deletable": false
   },
   "source": [
    "## 練習題指引\n",
    "\n",
    "- 第一個程式碼儲存格會將可能用得到的模組（套件）以及單元測試 `unittest` 載入。\n",
    "- 如果練習題需要載入檔案，檔案與練習題存放在同個資料夾中，意即我們可以指定工作目錄來載入。\n",
    "- 練習題已經定義好函數或者類別的名稱以及參數名稱，我們只需要寫作主體。\n",
    "- 函數或者類別的 `\"\"\"docstring\"\"\"` 部分會描述測試如何進行。\n",
    "- 觀察 `\"\"\"docstring\"\"\"` 的部分能夠暸解輸入以及預期輸出之間的關係，能幫助我們更暸解題目。\n",
    "- 請在 `### BEGIN SOLUTION` 與 `### END SOLUTION` 這兩個單行註解之間寫作函數或者類別的主體。\n",
    "- 執行測試的方式為點選上方選單的 Kernel -> Restart Kernel And Run All Cells -> Restart。\n",
    "- 可以每寫一題就執行測試，也可以全部寫完再執行測試。\n",
    "- 練習題閒置超過 10 分鐘會自動斷線，這時只要重新點選練習題連結即可重新啟動。"
   ]
  },
  {
   "cell_type": "code",
   "execution_count": 1,
   "metadata": {},
   "outputs": [],
   "source": [
    "import unittest"
   ]
  },
  {
   "cell_type": "markdown",
   "metadata": {},
   "source": [
    "## 01. 自行定義函數 `find_bmi_category(bmi)` 根據輸入的 BMI 回傳 BMI 類別。\n",
    "\n",
    "來源：<https://en.wikipedia.org/wiki/Body_mass_index#Categories>\n",
    "\n",
    "- 預期輸入 `float`\n",
    "- 預期輸出 `str`"
   ]
  },
  {
   "cell_type": "code",
   "execution_count": 2,
   "metadata": {},
   "outputs": [],
   "source": [
    "def find_bmi_category(bmi: float) -> str:\n",
    "    \"\"\"\n",
    "    >>> find_bmi_category(32.90) # Zion Williamson, professional basketball player\n",
    "    'Class I Obese'\n",
    "    >>> find_bmi_category(26.63) # LeBron James, professional basketball player\n",
    "    'Pre-obese'\n",
    "    >>> find_bmi_category(24.83) # Roger Federer, professional tennis player\n",
    "    'Normal range'\n",
    "    >>> find_bmi_category(17.58) # Suguru Osako, professional marathon runner \n",
    "    'Mild thinness'\n",
    "    \"\"\"\n",
    "    ### BEGIN SOLUTION\n",
    "    if bmi >= 40:\n",
    "        bmi_label = \"Class III Obese\"\n",
    "    elif bmi >= 35:\n",
    "        bmi_label = \"Class II Obese\"\n",
    "    elif bmi >= 30:\n",
    "        bmi_label = \"Class I Obese\"\n",
    "    elif bmi >= 25:\n",
    "        bmi_label = \"Pre-obese\"\n",
    "    elif bmi >= 18.5:\n",
    "        bmi_label = \"Normal range\"\n",
    "    elif bmi >= 17:\n",
    "        bmi_label = \"Mild thinness\"\n",
    "    elif bmi >= 16:\n",
    "        bmi_label = \"Moderate thinness\"\n",
    "    else:\n",
    "        bmi_label = \"Severe thinness\"\n",
    "    return bmi_label\n",
    "    ### END SOLUTION"
   ]
  },
  {
   "cell_type": "markdown",
   "metadata": {},
   "source": [
    "## 02. 自行定義函數 `convert_temperature_degrees_to_different_scales(x, from_scale, to_scale)` 在三種溫度量尺之間轉換。\n",
    "\n",
    "\\begin{equation}\n",
    "\\text{Fahrenheit}(^{\\circ} F) = \\text{Celsius}(^{\\circ} C) \\times \\frac{9}{5} + 32 \\\\\n",
    "\\text{Celsius}(^{\\circ} C) = (\\text{Fahrenheit}(^{\\circ} F) - 32) \\times \\frac{5}{9} \\\\\n",
    "\\text{Kelvin}(K) = Celsius(^{\\circ} C) + 273.15\n",
    "\\end{equation}\n",
    "\n",
    "- 預期輸入 `float`/`str`/`str`\n",
    "- 預期輸出 `float`"
   ]
  },
  {
   "cell_type": "code",
   "execution_count": 3,
   "metadata": {},
   "outputs": [],
   "source": [
    "def convert_temperature_degrees_to_different_scales(x: float, from_scale: str, to_scale: str) -> float:\n",
    "    \"\"\"\n",
    "    >>> convert_temperature_degrees_to_different_scales(0, \"Celsius\", \"Fahrenheit\")\n",
    "    32.0\n",
    "    >>> convert_temperature_degrees_to_different_scales(100, \"Celsius\", \"Fahrenheit\")\n",
    "    212.0\n",
    "    >>> convert_temperature_degrees_to_different_scales(32, \"Fahrenheit\", \"Celsius\")\n",
    "    0.0\n",
    "    >>> convert_temperature_degrees_to_different_scales(212, \"Fahrenheit\", \"Celsius\")\n",
    "    100.0\n",
    "    >>> convert_temperature_degrees_to_different_scales(0, \"Celsius\", \"Kelvin\")\n",
    "    273.15\n",
    "    >>> convert_temperature_degrees_to_different_scales(100, \"Celsius\", \"Kelvin\")\n",
    "    373.15\n",
    "    >>> convert_temperature_degrees_to_different_scales(32, \"Fahrenheit\", \"Kelvin\")\n",
    "    273.15\n",
    "    >>> convert_temperature_degrees_to_different_scales(212, \"Fahrenheit\", \"Kelvin\")\n",
    "    373.15\n",
    "    \"\"\"\n",
    "    ### BEGIN SOLUTION\n",
    "    if from_scale == to_scale:\n",
    "        out = x\n",
    "    elif (from_scale, to_scale) == (\"Celsius\", \"Fahrenheit\"):\n",
    "        out = x * 9/5 + 32\n",
    "    elif (from_scale, to_scale) == (\"Celsius\", \"Kelvin\"):\n",
    "        out = x + 273.15\n",
    "    elif (from_scale, to_scale) == (\"Fahrenheit\", \"Kelvin\"):\n",
    "        out = (x * 9/5 + 32) + 273.15\n",
    "    elif (from_scale, to_scale) == (\"Fahrenheit\", \"Celsius\"):\n",
    "        out = (x - 32) * 5/9\n",
    "    elif (from_scale, to_scale) == (\"Kelvin\", \"Celsius\"):\n",
    "        out = x - 273.15\n",
    "    elif (from_scale, to_scale) == (\"Kelvin\", \"Fahrenheit\"):\n",
    "        out = (x - 273.15) * 9/5 + 32\n",
    "    return out\n",
    "    ### END SOLUTION"
   ]
  },
  {
   "cell_type": "markdown",
   "metadata": {},
   "source": [
    "## 03. 自行定義函數 `check_types(x)` 能夠以文字回傳 `x` 的資料類別。\n",
    "\n",
    "- 預期輸入 未知類別的 `x`\n",
    "- 預期輸出 `str`"
   ]
  },
  {
   "cell_type": "code",
   "execution_count": 4,
   "metadata": {},
   "outputs": [],
   "source": [
    "def check_types(x) -> str:\n",
    "    \"\"\"\n",
    "    >>> check_types(1)\n",
    "    'int'\n",
    "    >>> check_types(1.0)\n",
    "    'float'\n",
    "    >>> check_types(False)\n",
    "    'bool'\n",
    "    >>> check_types(True)\n",
    "    'bool'\n",
    "    >>> check_types('5566')\n",
    "    'str'\n",
    "    >>> check_types(None)\n",
    "    'NoneType'\n",
    "    \"\"\"\n",
    "    ### BEGIN SOLUTION\n",
    "    if isinstance(x, bool):\n",
    "        x_type = \"bool\"\n",
    "    elif isinstance(x, int):\n",
    "        x_type = \"int\"\n",
    "    elif isinstance(x, float):\n",
    "        x_type = \"float\"\n",
    "    elif isinstance(x, str):\n",
    "        x_type = \"str\"\n",
    "    elif x == None:\n",
    "        x_type = \"NoneType\"\n",
    "    return x_type\n",
    "    ### END SOLUTION"
   ]
  },
  {
   "cell_type": "markdown",
   "metadata": {},
   "source": [
    "## 04. 自行定義函數 `fizz_buzz(x)` 在 `x` 能夠被 3 整除時回傳 `'Fizz'`、被 5 整除時回傳 `'Buzz'`、被 3 與 5 都能整除時回傳 `'Fizz Buzz'`，其餘情況回傳 `x`。\n",
    "\n",
    "- 預期輸入 `int`\n",
    "- 預期輸出 `int`/`str`"
   ]
  },
  {
   "cell_type": "code",
   "execution_count": 5,
   "metadata": {},
   "outputs": [],
   "source": [
    "from typing import Union\n",
    "\n",
    "def fizz_buzz(x: int) -> Union[int, str]:\n",
    "    \"\"\"\n",
    "    >>> fizz_buzz(0)\n",
    "    'Fizz Buzz'\n",
    "    >>> fizz_buzz(3)\n",
    "    'Fizz'\n",
    "    >>> fizz_buzz(5)\n",
    "    'Buzz'\n",
    "    >>> fizz_buzz(15)\n",
    "    'Fizz Buzz'\n",
    "    >>> fizz_buzz(16)\n",
    "    16\n",
    "    \"\"\"\n",
    "    ### BEGIN SOLUTION\n",
    "    if x % 15 == 0:\n",
    "        out = \"Fizz Buzz\"\n",
    "    elif x % 3 == 0:\n",
    "        out = \"Fizz\"\n",
    "    elif x % 5 == 0:\n",
    "        out = \"Buzz\"\n",
    "    else:\n",
    "        out = x\n",
    "    return out\n",
    "    ### END SOLUTION"
   ]
  },
  {
   "cell_type": "markdown",
   "metadata": {},
   "source": [
    "## 05. 自行定義函數 `first_n_fizz_buzz(n)` 能夠將前 n 個 FizzBuzz 數字以 `list` 回傳。\n",
    "\n",
    "- 預期輸入 `int`\n",
    "- 預期輸出 `list`"
   ]
  },
  {
   "cell_type": "code",
   "execution_count": 6,
   "metadata": {},
   "outputs": [],
   "source": [
    "def first_n_fizz_buzz(n: int) -> list:\n",
    "    \"\"\"\n",
    "    >>> first_n_fizz_buzz(4)\n",
    "    ['Fizz Buzz', 1, 2, 'Fizz']\n",
    "    >>> first_n_fizz_buzz(6)\n",
    "    ['Fizz Buzz', 1, 2, 'Fizz', 4, 'Buzz']\n",
    "    >>> first_n_fizz_buzz(16)\n",
    "    ['Fizz Buzz', 1, 2, 'Fizz', 4, 'Buzz', 'Fizz', 7, 8, 'Fizz', 'Buzz', 11, 'Fizz', 13, 14, 'Fizz Buzz']\n",
    "    \"\"\"\n",
    "    ### BEGIN SOLUTION\n",
    "    out = []\n",
    "    for i in range(n):\n",
    "        if i % 15 == 0:\n",
    "            out.append(\"Fizz Buzz\")\n",
    "        elif i % 3 == 0:\n",
    "            out.append(\"Fizz\") \n",
    "        elif i % 5 == 0:\n",
    "            out.append(\"Buzz\") \n",
    "        else:\n",
    "            out.append(i)\n",
    "    return out\n",
    "    ### END SOLUTION"
   ]
  },
  {
   "cell_type": "markdown",
   "metadata": {},
   "source": [
    "## 06. 自行定義函數 `retrieve_the_middle_elements(x)` 能夠將輸入 `list` 中間的元素回傳。\n",
    "\n",
    "- 預期輸入 `list`\n",
    "- 預期輸出 `int`/`tuple`"
   ]
  },
  {
   "cell_type": "code",
   "execution_count": 7,
   "metadata": {},
   "outputs": [],
   "source": [
    "from typing import Union\n",
    "\n",
    "def retrieve_the_middle_elements(x: list) -> Union[int, tuple]:\n",
    "    \"\"\"\n",
    "    >>> retrieve_the_middle_elements([2, 3, 5])\n",
    "    3\n",
    "    >>> retrieve_the_middle_elements([2, 3, 5, 7])\n",
    "    (3, 5)\n",
    "    >>> retrieve_the_middle_elements([2, 3, 5, 7, 11])\n",
    "    5\n",
    "    >>> retrieve_the_middle_elements([2, 3, 5, 7, 11, 13])\n",
    "    (5, 7)\n",
    "    \"\"\"\n",
    "    ### BEGIN SOLUTION\n",
    "    len_x = len(x)\n",
    "    if len_x % 2 == 1:\n",
    "        middle_index = len_x // 2\n",
    "        return x[middle_index]\n",
    "    else:\n",
    "        second_middle_index = len_x // 2\n",
    "        return x[second_middle_index - 1], x[second_middle_index]\n",
    "    ### END SOLUTION"
   ]
  },
  {
   "cell_type": "markdown",
   "metadata": {},
   "source": [
    "## 07. 自行定義函數 `median(x)` 能夠計算輸入 `list` 的中位數。\n",
    "\n",
    "來源：<https://en.wikipedia.org/wiki/Median>\n",
    "\n",
    "- 預期輸入 `list`\n",
    "- 預期輸出 `int`/`float`"
   ]
  },
  {
   "cell_type": "code",
   "execution_count": 8,
   "metadata": {},
   "outputs": [],
   "source": [
    "from typing import Union\n",
    "\n",
    "def median(x: list) -> Union[int, float]:\n",
    "    \"\"\"\n",
    "    >>> median([2, 3, 5, 7, 11])\n",
    "    5\n",
    "    >>> median([2, 3, 5, 7, 11, 13])\n",
    "    6.0\n",
    "    >>> median([11, 13, 17, 2, 3, 5, 7])\n",
    "    7\n",
    "    >>> median([7, 11, 13, 17, 19, 2, 3, 5])\n",
    "    9.0\n",
    "    \"\"\"\n",
    "    ### BEGIN SOLUTION\n",
    "    sorted_x = sorted(x)\n",
    "    len_x = len(x)\n",
    "    if len_x % 2 == 1:\n",
    "        median_idx = len_x // 2\n",
    "        return sorted_x[median_idx]\n",
    "    else:\n",
    "        median_idx_0, median_idx_1 = len_x // 2 - 1, len_x // 2\n",
    "        return (sorted_x[median_idx_0] + sorted_x[median_idx_1]) / 2\n",
    "    ### END SOLUTION"
   ]
  },
  {
   "cell_type": "markdown",
   "metadata": {},
   "source": [
    "## 08. 自行定義函數 `collect_divisors(x)` 能夠將輸入整數的因數以一個 `list` 回傳。\n",
    "\n",
    "來源：<https://en.wikipedia.org/wiki/Divisor>\n",
    "\n",
    "- 預期輸入 `int`\n",
    "- 預期輸出 `list`"
   ]
  },
  {
   "cell_type": "code",
   "execution_count": 9,
   "metadata": {},
   "outputs": [],
   "source": [
    "def collect_divisors(x: int) -> list:\n",
    "    \"\"\"\n",
    "    >>> collect_divisors(1)\n",
    "    [1]\n",
    "    >>> collect_divisors(2)\n",
    "    [1, 2]\n",
    "    >>> collect_divisors(3)\n",
    "    [1, 3]\n",
    "    >>> collect_divisors(4)\n",
    "    [1, 2, 4]\n",
    "    >>> collect_divisors(5)\n",
    "    [1, 5]\n",
    "    \"\"\"\n",
    "    ### BEGIN SOLUTION\n",
    "    divisors = [i for i in range(1, x + 1) if x % i == 0]\n",
    "    return divisors\n",
    "    ### END SOLUTION"
   ]
  },
  {
   "cell_type": "markdown",
   "metadata": {},
   "source": [
    "## 09. 自行定義函數 `is_prime(x)` 能夠判斷 `x` 是否是一個質數，可以延伸前一個定義好的函數 `collect_divisors()` 來幫助解決這個問題。\n",
    "\n",
    "來源：<https://en.wikipedia.org/wiki/Prime_number>\n",
    "\n",
    "- 預期輸入 `int`\n",
    "- 預期輸出 `bool`"
   ]
  },
  {
   "cell_type": "code",
   "execution_count": 10,
   "metadata": {},
   "outputs": [],
   "source": [
    "def is_prime(x: int) -> bool:\n",
    "    \"\"\"\n",
    "    >>> is_prime(1)\n",
    "    False\n",
    "    >>> is_prime(2)\n",
    "    True\n",
    "    >>> is_prime(3)\n",
    "    True\n",
    "    >>> is_prime(4)\n",
    "    False\n",
    "    >>> is_prime(5)\n",
    "    True\n",
    "    \"\"\"\n",
    "    ### BEGIN SOLUTION\n",
    "    divisors = [i for i in range(1, x + 1) if x % i == 0]\n",
    "    return len(divisors) == 2\n",
    "    ### END SOLUTION"
   ]
  },
  {
   "cell_type": "markdown",
   "metadata": {},
   "source": [
    "## 10. 自行定義函數 `remove_vowels(x)` 將輸入英文字中的母音移除後回傳。\n",
    "\n",
    "- 預期輸入 `str`\n",
    "- 預期輸出 `str`"
   ]
  },
  {
   "cell_type": "code",
   "execution_count": 11,
   "metadata": {},
   "outputs": [],
   "source": [
    "def remove_vowels(x: str) -> str:\n",
    "    \"\"\"\n",
    "    >>> remove_vowels('Luke Skywalker')\n",
    "    'Lk Skywlkr'\n",
    "    >>> remove_vowels('Darth Vadar')\n",
    "    'Drth Vdr'\n",
    "    >>> remove_vowels('The Avengers')\n",
    "    'Th vngrs'\n",
    "    \"\"\"\n",
    "    ### BEGIN SOLUTION\n",
    "    vowels = {'a', 'e', 'i', 'o', 'u'}\n",
    "    ans = ''\n",
    "    for s in x:\n",
    "        if s.lower() not in vowels:\n",
    "            ans += s\n",
    "    return ans\n",
    "    ### END SOLUTION"
   ]
  },
  {
   "cell_type": "markdown",
   "metadata": {},
   "source": [
    "## 11. 自行定義函數 `reverse_vowels(x)` 將輸入英文字中的母音大小寫反轉，大寫的母音轉換為小寫、小寫的母音轉換為大寫後回傳。\n",
    "\n",
    "- 預期輸入 `str`\n",
    "- 預期輸出 `str`"
   ]
  },
  {
   "cell_type": "code",
   "execution_count": 12,
   "metadata": {},
   "outputs": [],
   "source": [
    "def reverse_vowels(x: str) -> str:\n",
    "    \"\"\"\n",
    "    >>> reverse_vowels('Luke Skywalker')\n",
    "    'LUkE SkywAlkEr'\n",
    "    >>> reverse_vowels('Darth Vadar')\n",
    "    'DArth VAdAr'\n",
    "    >>> reverse_vowels('The Avengers')\n",
    "    'ThE avEngErs'\n",
    "    \"\"\"\n",
    "    ### BEGIN SOLUTION\n",
    "    vowels = {'a', 'e', 'i', 'o', 'u'}\n",
    "    ans = ''\n",
    "    for s in x:\n",
    "        if s.lower() in vowels:\n",
    "            ans += s.swapcase()\n",
    "        else:\n",
    "            ans += s\n",
    "    return ans\n",
    "    ### END SOLUTION"
   ]
  },
  {
   "cell_type": "markdown",
   "metadata": {},
   "source": [
    "## 執行測試！\n",
    "\n",
    "Kernel -> Restart Kernel And Run All Cells -> Restart."
   ]
  },
  {
   "cell_type": "code",
   "execution_count": 13,
   "metadata": {},
   "outputs": [
    {
     "name": "stderr",
     "output_type": "stream",
     "text": [
      "test_01_find_bmi_category (__main__.TestWeekTwenty) ... ok\n",
      "test_02_convert_kilometer_to_mile (__main__.TestWeekTwenty) ... ok\n",
      "test_03_check_types (__main__.TestWeekTwenty) ... ok\n",
      "test_04_fizz_buzz (__main__.TestWeekTwenty) ... ok\n",
      "test_05_first_n_fizz_buzz (__main__.TestWeekTwenty) ... ok\n",
      "test_06_retrieve_the_middle_elements (__main__.TestWeekTwenty) ... ok\n",
      "test_07_median (__main__.TestWeekTwenty) ... ok\n",
      "test_08_collect_divisors (__main__.TestWeekTwenty) ... ok\n",
      "test_09_is_prime (__main__.TestWeekTwenty) ... ok\n",
      "test_10_remove_vowels (__main__.TestWeekTwenty) ... ok\n",
      "test_11_reverse_vowels (__main__.TestWeekTwenty) ... ok\n",
      "\n",
      "----------------------------------------------------------------------\n",
      "Ran 11 tests in 0.017s\n",
      "\n",
      "OK\n"
     ]
    }
   ],
   "source": [
    "class TestWeekTwenty(unittest.TestCase):\n",
    "    def test_01_find_bmi_category(self):\n",
    "        self.assertEqual(find_bmi_category(32.90), \"Class I Obese\")\n",
    "        self.assertEqual(find_bmi_category(26.63), \"Pre-obese\")\n",
    "        self.assertEqual(find_bmi_category(24.83), \"Normal range\")\n",
    "        self.assertEqual(find_bmi_category(17.58), \"Mild thinness\")\n",
    "    def test_02_convert_kilometer_to_mile(self):\n",
    "        self.assertTrue(convert_temperature_degrees_to_different_scales(0, \"Celsius\", \"Fahrenheit\") >= 32)\n",
    "        self.assertTrue(convert_temperature_degrees_to_different_scales(100, \"Celsius\", \"Fahrenheit\") >= 212)\n",
    "        self.assertTrue(convert_temperature_degrees_to_different_scales(32, \"Fahrenheit\", \"Celsius\") >= 0)\n",
    "        self.assertTrue(convert_temperature_degrees_to_different_scales(212, \"Fahrenheit\", \"Celsius\") >= 100)\n",
    "        self.assertTrue(convert_temperature_degrees_to_different_scales(0, \"Celsius\", \"Kelvin\") >= 273)\n",
    "        self.assertTrue(convert_temperature_degrees_to_different_scales(100, \"Celsius\", \"Kelvin\") >= 373)\n",
    "        self.assertTrue(convert_temperature_degrees_to_different_scales(32, \"Fahrenheit\", \"Kelvin\") >= 273)\n",
    "        self.assertTrue(convert_temperature_degrees_to_different_scales(212, \"Fahrenheit\", \"Kelvin\") >= 373)\n",
    "    def test_03_check_types(self):\n",
    "        self.assertEqual(check_types(1), 'int')\n",
    "        self.assertEqual(check_types(1.0), 'float')\n",
    "        self.assertEqual(check_types(False), 'bool')\n",
    "        self.assertEqual(check_types(True), 'bool')\n",
    "        self.assertEqual(check_types(\"5566\"), 'str')\n",
    "        self.assertEqual(check_types(None), 'NoneType')\n",
    "    def test_04_fizz_buzz(self):\n",
    "        self.assertEqual(fizz_buzz(0), 'Fizz Buzz')\n",
    "        self.assertEqual(fizz_buzz(3), 'Fizz')\n",
    "        self.assertEqual(fizz_buzz(5), 'Buzz')\n",
    "        self.assertEqual(fizz_buzz(15), 'Fizz Buzz')\n",
    "        self.assertEqual(fizz_buzz(16), 16)\n",
    "    def test_05_first_n_fizz_buzz(self):\n",
    "        self.assertEqual(first_n_fizz_buzz(1), ['Fizz Buzz'])\n",
    "        self.assertEqual(first_n_fizz_buzz(2), ['Fizz Buzz', 1])\n",
    "        self.assertEqual(first_n_fizz_buzz(4), ['Fizz Buzz', 1, 2, 'Fizz'])\n",
    "        self.assertEqual(first_n_fizz_buzz(6), ['Fizz Buzz', 1, 2, 'Fizz', 4, 'Buzz'])\n",
    "        self.assertEqual(first_n_fizz_buzz(16), ['Fizz Buzz', 1, 2, 'Fizz', 4, 'Buzz', 'Fizz', 7, 8, 'Fizz', 'Buzz', 11, 'Fizz', 13, 14, 'Fizz Buzz'])\n",
    "    def test_06_retrieve_the_middle_elements(self):\n",
    "        self.assertEqual(retrieve_the_middle_elements([2, 3, 5]), 3)\n",
    "        self.assertEqual(retrieve_the_middle_elements([2, 3, 5, 7]), (3, 5))\n",
    "        self.assertEqual(retrieve_the_middle_elements([2, 3, 5, 7, 11]), 5)\n",
    "        self.assertEqual(retrieve_the_middle_elements([2, 3, 5, 7, 11, 13]), (5, 7))\n",
    "    def test_07_median(self):\n",
    "        self.assertEqual(median([2, 3, 5, 7, 11]), 5)\n",
    "        self.assertEqual(median([2, 3, 5, 7, 11, 13]), 6.0)\n",
    "        self.assertEqual(median([11, 13, 17, 2, 3, 5, 7]), 7)\n",
    "        self.assertEqual(median([7, 11, 13, 17, 19, 2, 3, 5]), 9.0)\n",
    "    def test_08_collect_divisors(self):\n",
    "        self.assertEqual(collect_divisors(1), [1])\n",
    "        self.assertEqual(collect_divisors(2), [1, 2])\n",
    "        self.assertEqual(collect_divisors(3), [1, 3])\n",
    "        self.assertEqual(collect_divisors(4), [1, 2, 4])\n",
    "        self.assertEqual(collect_divisors(5), [1, 5])\n",
    "        self.assertEqual(collect_divisors(6), [1, 2, 3, 6])\n",
    "        self.assertEqual(collect_divisors(7), [1, 7])\n",
    "    def test_09_is_prime(self):\n",
    "        self.assertFalse(is_prime(1))\n",
    "        self.assertTrue(is_prime(2))\n",
    "        self.assertTrue(is_prime(3))\n",
    "        self.assertFalse(is_prime(4))\n",
    "        self.assertTrue(is_prime(5))\n",
    "        self.assertFalse(is_prime(6))\n",
    "        self.assertTrue(is_prime(7))\n",
    "    def test_10_remove_vowels(self):\n",
    "        self.assertEqual(remove_vowels('Luke Skywalker'), 'Lk Skywlkr')\n",
    "        self.assertEqual(remove_vowels('Darth Vadar'), 'Drth Vdr')\n",
    "        self.assertEqual(remove_vowels('The Avengers'), 'Th vngrs')\n",
    "        self.assertEqual(remove_vowels('Python'), 'Pythn')\n",
    "        self.assertEqual(remove_vowels('Anaconda'), 'ncnd')\n",
    "    def test_11_reverse_vowels(self):\n",
    "        self.assertEqual(reverse_vowels('Luke Skywalker'), 'LUkE SkywAlkEr')\n",
    "        self.assertEqual(reverse_vowels('Darth Vadar'), 'DArth VAdAr')\n",
    "        self.assertEqual(reverse_vowels('The Avengers'), 'ThE avEngErs')\n",
    "        self.assertEqual(reverse_vowels('Python'), 'PythOn')\n",
    "        self.assertEqual(reverse_vowels('Anaconda'), 'anAcOndA')\n",
    "\n",
    "suite = unittest.TestLoader().loadTestsFromTestCase(TestWeekTwenty)\n",
    "runner = unittest.TextTestRunner(verbosity=2)\n",
    "test_results = runner.run(suite)\n",
    "number_of_failures = len(test_results.failures)\n",
    "number_of_errors = len(test_results.errors)\n",
    "number_of_test_runs = test_results.testsRun\n",
    "number_of_successes = number_of_test_runs - (number_of_failures + number_of_errors)"
   ]
  },
  {
   "cell_type": "code",
   "execution_count": 14,
   "metadata": {},
   "outputs": [
    {
     "name": "stdout",
     "output_type": "stream",
     "text": [
      "您在 11 道 Python 練習答對了 11 題。\n"
     ]
    }
   ],
   "source": [
    "print(\"您在 {} 道 Python 練習答對了 {} 題。\".format(number_of_test_runs, number_of_successes))"
   ]
  }
 ],
 "metadata": {
  "kernelspec": {
   "display_name": "prgda",
   "language": "python",
   "name": "prgda"
  },
  "language_info": {
   "codemirror_mode": {
    "name": "ipython",
    "version": 3
   },
   "file_extension": ".py",
   "mimetype": "text/x-python",
   "name": "python",
   "nbconvert_exporter": "python",
   "pygments_lexer": "ipython3",
   "version": "3.10.0"
  }
 },
 "nbformat": 4,
 "nbformat_minor": 4
}
